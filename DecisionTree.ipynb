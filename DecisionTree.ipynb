{
 "cells": [
  {
   "cell_type": "code",
   "execution_count": 1,
   "metadata": {
    "collapsed": true
   },
   "outputs": [],
   "source": [
    "import numpy as np\n",
    "import pandas as pd\n",
    "import collections\n",
    "import time\n",
    "import graphviz\n",
    "import pydotplus\n",
    "from sklearn import tree\n",
    "from sklearn.tree import DecisionTreeRegressor\n",
    "from sklearn.model_selection import GridSearchCV\n",
    "from dateutil import parser, rrule\n",
    "from sklearn.metrics import mean_squared_error\n",
    "from sklearn.metrics import mean_absolute_percentage_error"
   ]
  },
  {
   "cell_type": "code",
   "execution_count": 2,
   "outputs": [
    {
     "name": "stdout",
     "output_type": "stream",
     "text": [
      "888470\n"
     ]
    }
   ],
   "source": [
    "# Read the csv data file.\n",
    "trips = pd.read_csv('Bixi_data/OD_2018-06.csv')\n",
    "\n",
    "# Shape[0] gives the number of rows in the array\n",
    "tripsNumb = trips.shape[0]\n",
    "print(tripsNumb)"
   ],
   "metadata": {
    "collapsed": false,
    "pycharm": {
     "name": "#%%\n"
    }
   }
  },
  {
   "cell_type": "code",
   "execution_count": 3,
   "outputs": [],
   "source": [
    "# Get the day, month, and year of the trips\n",
    "trips.start_date = pd.to_datetime(trips.start_date) - pd.to_timedelta(pd.to_datetime(trips.start_date).dt.second, unit='s')\n",
    "trips.end_date = pd.to_datetime(trips.end_date) - pd.to_timedelta(pd.to_datetime(trips.end_date).dt.second, unit='s')\n",
    "\n",
    "# pd.to_datetime will change the argument (trips.start/end_date) from the csv file into datetime\n",
    "# pd.to_timedelta will give the absolute differences in time of the arguement\n",
    "\n",
    "trips['month'] = trips.start_date.dt.month\n",
    "trips['weekday'] = trips.start_date.dt.weekday\n",
    "trips['hour'] = trips.start_date.dt.hour\n",
    "trips['round_to_hour'] = trips.start_date.dt.round(\"H\")\n",
    "trips['date'] = trips.start_date.dt.date"
   ],
   "metadata": {
    "collapsed": false,
    "pycharm": {
     "name": "#%%\n"
    }
   }
  },
  {
   "cell_type": "code",
   "execution_count": 4,
   "outputs": [],
   "source": [
    "# Read the hourly temperature csv file of the corresponding month\n",
    "temperature = pd.read_csv('Weather_data/en_climate_hourly_QC_702S006_06-2018_P1H.csv')\n",
    "\n",
    "# Make a dataframe of date and time with the temperature\n",
    "tempDataFrame = pd.concat([temperature['Date/Time'], temperature['Temp (°C)']], axis=1)\n",
    "tempDataFrame['Date/Time'] = pd.to_datetime(tempDataFrame['Date/Time'])\n",
    "tempDataFrame = tempDataFrame.set_index('Date/Time').T\n",
    "\n",
    "# .T gives the transpose of the dataframe\n",
    "\n",
    "# Make the dataframe a dictionary\n",
    "tempDict = tempDataFrame.to_dict('list')"
   ],
   "metadata": {
    "collapsed": false,
    "pycharm": {
     "name": "#%%\n"
    }
   }
  },
  {
   "cell_type": "code",
   "execution_count": 5,
   "outputs": [],
   "source": [
    "# Read the daily temperature and precipitation csv file of the corresponding year\n",
    "ppt = pd.read_csv('Weather_data/en_climate_daily_QC_702S006_2018_P1D.csv')\n",
    "\n",
    "# Make a dataframe of date and time with the precipitation data, then make it a dictionary\n",
    "rainDataFrame = pd.concat([ppt['Date/Time'], ppt['Total Precip (mm)']], axis=1)\n",
    "rainDataFrame['Date/Time'] = pd.to_datetime(rainDataFrame['Date/Time'])\n",
    "rainDataFrame['Date/Time'] = rainDataFrame['Date/Time'].dt.date\n",
    "rainDataFrame = rainDataFrame.fillna(0)\n",
    "rainDataFrame = rainDataFrame.set_index('Date/Time').T\n",
    "rainDict = rainDataFrame.to_dict('list')\n",
    "\n",
    "# .fillna(0) will replace empty slost with zero\n",
    "\n",
    "# Make a dataframe of date and time with the snow data, then make it a dictionary\n",
    "snowDataFrame = pd.concat([ppt['Date/Time'], ppt['Total Snow (cm)']], axis=1)\n",
    "snowDataFrame['Date/Time'] = pd.to_datetime(snowDataFrame['Date/Time'])\n",
    "snowDataFrame['Date/Time'] = snowDataFrame['Date/Time'].dt.date\n",
    "snowDataFrame = snowDataFrame.fillna(0)\n",
    "snowDataFrame = snowDataFrame.set_index('Date/Time').T\n",
    "snowDict = snowDataFrame.to_dict('list')\n",
    "\n",
    "# Map the temperature, rain, and snow dictionaries to the trips\n",
    "trips['Temp'] = trips.round_to_hour.map(tempDict)\n",
    "trips['Rain'] = trips.date.map(rainDict)\n",
    "trips['Snow'] = trips.date.map(snowDict)\n",
    "\n",
    "# Make the respective object columns of type int\n",
    "trips['Temp'] = (trips.Temp.str[0])\n",
    "trips['Temp'] = pd.to_numeric(trips.Temp , errors='ignore')\n",
    "trips['Temp'] = trips.Temp.fillna(0)\n",
    "trips['Temp'] = trips.Temp.astype(int)\n",
    "\n",
    "trips['Rain'] = (trips.Rain.str[0])\n",
    "trips['Rain'] = pd.to_numeric(trips.Rain, errors='ignore')\n",
    "trips['Rain'] = trips.Rain.fillna(0)\n",
    "trips['Rain'] = trips.Rain.astype(int)\n",
    "\n",
    "trips['Snow'] = (trips.Snow.str[0])\n",
    "trips['Snow'] = pd.to_numeric(trips.Snow, errors='ignore')\n",
    "trips['Snow'] = trips.Snow.fillna(0)\n",
    "trips['Snow'] = trips.Snow.astype(int)"
   ],
   "metadata": {
    "collapsed": false,
    "pycharm": {
     "name": "#%%\n"
    }
   }
  },
  {
   "cell_type": "code",
   "execution_count": 6,
   "outputs": [],
   "source": [
    "# Calculate amount of trips and number of bikes used, then make a dictionary of the time and amount\n",
    "firstTrip = min(trips.start_date)\n",
    "lastTRip = max(trips.end_date)\n",
    "amountTime = list(rrule.rrule(freq = rrule.MINUTELY, dtstart = firstTrip, until = lastTRip))\n",
    "amountValue = np.zeros(len(amountTime))\n",
    "\n",
    "# .zeros creates an empty list\n",
    "\n",
    "amountDict = dict(zip(amountTime,amountValue))\n",
    "for i in np.arange(tripsNumb):\n",
    "    start = trips.start_date.iloc[i]\n",
    "    end = trips.end_date.iloc[i]\n",
    "    for j in list(rrule.rrule(freq = rrule.MINUTELY, dtstart = start, until = end)):\n",
    "        amountDict[j] += 1\n",
    "\n",
    "trips['amount'] = trips.start_date.map(amountDict)\n",
    "amount = trips.amount.values"
   ],
   "metadata": {
    "collapsed": false,
    "pycharm": {
     "name": "#%%\n"
    }
   }
  },
  {
   "cell_type": "code",
   "execution_count": 7,
   "outputs": [],
   "source": [
    "# Natural Data\n",
    "naturalDataFrame = pd.concat([trips['hour'], trips['weekday'], trips['month'], trips['Temp'],trips['Rain'], trips['Snow'], trips['amount']], axis = 1)\n",
    "xNaturalDataFrame = naturalDataFrame.drop(['amount'], axis = 1)\n",
    "xMatrixNatural = xNaturalDataFrame.astype(float).values"
   ],
   "metadata": {
    "collapsed": false,
    "pycharm": {
     "name": "#%%\n"
    }
   }
  },
  {
   "cell_type": "code",
   "execution_count": 8,
   "outputs": [],
   "source": [
    "# Engineered Data\n",
    "engineeredDataFrame = naturalDataFrame\n",
    "\n",
    "# Set the weekdays to 1 and weekends to 0\n",
    "# Weekdays have indexes 0 to 4, weekends have indexes 5 and 6\n",
    "engineeredDataFrame.weekday = engineeredDataFrame.weekday.replace(np.arange(5), 1)\n",
    "engineeredDataFrame.weekday = engineeredDataFrame.weekday.replace(5,0)\n",
    "engineeredDataFrame.weekday = engineeredDataFrame.weekday.replace(6,0)\n",
    "\n",
    "# Set rain/snow to 1 if it is raining/snowing\n",
    "engineeredDataFrame.loc[engineeredDataFrame.Rain > 0] = 1\n",
    "engineeredDataFrame.loc[engineeredDataFrame.Snow > 0] = 1\n",
    "\n",
    "# Set the cold months (like January, February..) to 0 and the warmer months (June, July..) to 1\n",
    "engineeredDataFrame.month = engineeredDataFrame.month.replace(np.arange(0,4), 0)\n",
    "engineeredDataFrame.month = engineeredDataFrame.month.replace(4, 0)\n",
    "engineeredDataFrame.month = engineeredDataFrame.month.replace(np.arange(5,10), 1)\n",
    "engineeredDataFrame.month = engineeredDataFrame.month.replace(np.arange(10,13), 0)\n",
    "\n",
    "xEngineeredDataFrame = engineeredDataFrame.drop(['amount'], axis = 1)\n",
    "xMatrixEngineered = xEngineeredDataFrame.astype(float).values"
   ],
   "metadata": {
    "collapsed": false,
    "pycharm": {
     "name": "#%%\n"
    }
   }
  },
  {
   "cell_type": "code",
   "execution_count": 9,
   "outputs": [],
   "source": [
    "# Make training and testing dataset, use 70% of the data for training and 30% for testing\n",
    "np.random.seed(2)\n",
    "train = int(tripsNumb*0.7)\n",
    "trainSet = np.random.choice(tripsNumb, train, replace=False)\n",
    "testSet = np.array(list(set(range(tripsNumb))-set(trainSet)))\n",
    "testNumb = tripsNumb - train\n",
    "\n",
    "# Training\n",
    "XTrainNat = xMatrixNatural[trainSet, :]\n",
    "XTrainEngineered = xMatrixEngineered[trainSet, :]\n",
    "YTrain = amount[trainSet]\n",
    "\n",
    "# Testing\n",
    "XTestNat = xMatrixNatural[testSet, :]\n",
    "XTestEngineered = xMatrixEngineered[testSet, :]\n",
    "YTest = amount[testSet]"
   ],
   "metadata": {
    "collapsed": false,
    "pycharm": {
     "name": "#%%\n"
    }
   }
  },
  {
   "cell_type": "code",
   "execution_count": 11,
   "outputs": [],
   "source": [
    "# Plotting the decision tree\n",
    "def treePlot(fit):\n",
    "    labels = ['Temperature (C)', 'Total Rain (mm)', 'Total Snow (cm)', 'Hour', 'Weekday', 'Month']\n",
    "\n",
    "    dotData = tree.export_graphviz(fit, out_file=None,max_depth=3, filled=True,rounded=True,special_characters=True,\n",
    "                                   feature_names = labels, impurity=False)\n",
    "\n",
    "# To have different colors in the graph\n",
    "    graph = pydotplus.graph_from_dot_data(dotData)\n",
    "    colors = ('thistle1', 'violet')\n",
    "    edges = collections.defaultdict(list)\n",
    "    for edge in graph.get_edge_list():\n",
    "        edges[edge.get_source()].append(int(edge.get_destination()))\n",
    "    for edge in edges:\n",
    "        edges[edge].sort()\n",
    "        for i in range(2):\n",
    "            dest = graph.get_node(str(edges[edge][i]))[0]\n",
    "            dest.set_fillcolor(colors[i])\n",
    "    return graph"
   ],
   "metadata": {
    "collapsed": false,
    "pycharm": {
     "name": "#%%\n"
    }
   }
  },
  {
   "cell_type": "code",
   "execution_count": 14,
   "outputs": [
    {
     "name": "stdout",
     "output_type": "stream",
     "text": [
      "{'min_samples_leaf': 10}\n",
      "RMSE of Natural Data =  58.373723701726874\n",
      "Mean Absolute Percent Error of Natural Data =  0.08250636940680331\n"
     ]
    }
   ],
   "source": [
    "# Minimum number of sample at a leaf node\n",
    "parameters = {'min_samples_leaf': [10, 50, 100, 250, 500, 750, 1000, 1250, 1500, 1750, 2000]}\n",
    "\n",
    "# Training the natural data\n",
    "decisionTreeNatural = DecisionTreeRegressor()\n",
    "fitNatural = GridSearchCV(decisionTreeNatural, parameters, cv=5, refit = True)\n",
    "fitNatural.fit(XTrainNat, YTrain)\n",
    "treePredictNat = fitNatural.predict(XTestNat)\n",
    "\n",
    "# best_params_ : which parameter gives best results\n",
    "bestParamNat = fitNatural.best_params_\n",
    "print(bestParamNat)  # = 10\n",
    "\n",
    "# Testing the natural data\n",
    "treeNatural = DecisionTreeRegressor(min_samples_leaf= 10)\n",
    "treeNatural.fit(XTrainNat, YTrain)\n",
    "treePredictNat =  treeNatural.predict(XTestNat)\n",
    "\n",
    "graph = treePlot(treeNatural)\n",
    "graph.write_png('NaturalTree.png')\n",
    "\n",
    "# Setting squared to false returns root mean squared error, instead of mean squared error\n",
    "rmse = mean_squared_error(treePredictNat, YTest, squared = False)\n",
    "percentError = mean_absolute_percentage_error(treePredictNat, YTest)\n",
    "\n",
    "print(\"RMSE of the natural data = \" , rmse)\n",
    "print(\"Mean Absolute Percent Error of the natural data = \" , percentError)"
   ],
   "metadata": {
    "collapsed": false,
    "pycharm": {
     "name": "#%%\n"
    }
   }
  },
  {
   "cell_type": "code",
   "execution_count": 17,
   "outputs": [
    {
     "name": "stdout",
     "output_type": "stream",
     "text": [
      "{'min_samples_leaf': 10}\n",
      "RMSE of the engineered data =  137.1051864164655\n",
      "Mean Absolute Percent Error of the natural data =  0.19480058666602337\n"
     ]
    }
   ],
   "source": [
    "# Training the engineered data\n",
    "\n",
    "decisionTreeEngineered = DecisionTreeRegressor()\n",
    "fitEngineered = GridSearchCV(decisionTreeEngineered, parameters, cv=5, refit = True)\n",
    "fitEngineered.fit(XTrainEngineered, YTrain)\n",
    "treePredictEngineered = fitEngineered.predict(XTestEngineered)\n",
    "bestParamEngineered = fitEngineered.best_params_\n",
    "print(bestParamEngineered)  # = 10\n",
    "\n",
    "# Testing the engineered data\n",
    "treeEngineered = DecisionTreeRegressor(min_samples_leaf = 10)\n",
    "treeEngineered.fit(XTrainEngineered, YTrain)\n",
    "treePredictEngineered = treeEngineered.predict(XTestEngineered)\n",
    "\n",
    "graph = treePlot(treeEngineered)\n",
    "graph.write_png('EngineeredTree.png')\n",
    "\n",
    "rmse = mean_squared_error(treePredictEngineered, YTest, squared = False)\n",
    "percentError = mean_absolute_percentage_error(treePredictEngineered, YTest)\n",
    "\n",
    "print(\"RMSE of the engineered data = \" , rmse)\n",
    "print(\"Mean Absolute Percent Error of the natural data = \" , percentError)"
   ],
   "metadata": {
    "collapsed": false,
    "pycharm": {
     "name": "#%%\n"
    }
   }
  }
 ],
 "metadata": {
  "kernelspec": {
   "display_name": "Python 3",
   "language": "python",
   "name": "python3"
  },
  "language_info": {
   "codemirror_mode": {
    "name": "ipython",
    "version": 2
   },
   "file_extension": ".py",
   "mimetype": "text/x-python",
   "name": "python",
   "nbconvert_exporter": "python",
   "pygments_lexer": "ipython2",
   "version": "2.7.6"
  }
 },
 "nbformat": 4,
 "nbformat_minor": 0
}