{
 "cells": [
  {
   "cell_type": "code",
   "execution_count": 1,
   "metadata": {
    "collapsed": true
   },
   "outputs": [],
   "source": [
    "import numpy as np\n",
    "import pandas as pd\n",
    "import collections\n",
    "import time\n",
    "import graphviz\n",
    "import pydotplus\n",
    "from sklearn import tree\n",
    "from sklearn.tree import DecisionTreeRegressor\n",
    "from sklearn.model_selection import GridSearchCV\n",
    "from dateutil import parser, rrule\n",
    "\n"
   ]
  },
  {
   "cell_type": "code",
   "execution_count": 2,
   "outputs": [
    {
     "name": "stdout",
     "output_type": "stream",
     "text": [
      "888470\n"
     ]
    }
   ],
   "source": [
    "# Read the csv data file.\n",
    "trips = pd.read_csv('Bixi_data/OD_2018-06.csv')\n",
    "\n",
    "# Shape[0] gives the number of rows in the array\n",
    "tripsNumb = trips.shape[0]\n",
    "print(tripsNumb)"
   ],
   "metadata": {
    "collapsed": false,
    "pycharm": {
     "name": "#%%\n"
    }
   }
  },
  {
   "cell_type": "code",
   "execution_count": 3,
   "outputs": [],
   "source": [
    "# Get the day, month, and year of the trips\n",
    "trips.start_date = pd.to_datetime(trips.start_date) - pd.to_timedelta(pd.to_datetime(trips.start_date).dt.second, unit='s')\n",
    "trips.end_date = pd.to_datetime(trips.end_date) - pd.to_timedelta(pd.to_datetime(trips.end_date).dt.second, unit='s')\n",
    "\n",
    "# pd.to_datetime will change the argument (trips.start/end_date) from the csv file into datetime\n",
    "# pd.to_timedelta will give the absolute differences in time of the arguement\n",
    "\n",
    "trips['month'] = trips.start_date.dt.month\n",
    "trips['weekday'] = trips.start_date.dt.weekday\n",
    "trips['hour'] = trips.start_date.dt.hour\n",
    "trips['round_to_hour'] = trips.start_date.dt.round(\"H\")\n",
    "trips['date'] = trips.start_date.dt.date"
   ],
   "metadata": {
    "collapsed": false,
    "pycharm": {
     "name": "#%%\n"
    }
   }
  },
  {
   "cell_type": "code",
   "execution_count": 4,
   "outputs": [],
   "source": [
    "# Read the hourly temperature csv file of the corresponding month\n",
    "temperature = pd.read_csv('Weather_data/en_climate_hourly_QC_702S006_06-2018_P1H.csv')\n",
    "\n",
    "# Make a dataframe of date and time with the temperature\n",
    "tempDataFrame = pd.concat([temperature['Date/Time'], temperature['Temp (°C)']], axis=1)\n",
    "tempDataFrame['Date/Time'] = pd.to_datetime(tempDataFrame['Date/Time'])\n",
    "tempDataFrame = tempDataFrame.set_index('Date/Time').T\n",
    "\n",
    "# .T gives the transpose of the dataframe\n",
    "\n",
    "# Make the dataframe a dictionary\n",
    "tempDict = tempDataFrame.to_dict('list')"
   ],
   "metadata": {
    "collapsed": false,
    "pycharm": {
     "name": "#%%\n"
    }
   }
  },
  {
   "cell_type": "code",
   "execution_count": 5,
   "outputs": [],
   "source": [
    "# Read the daily temperature and precipitation csv file of the corresponding year\n",
    "ppt = pd.read_csv('Weather_data/en_climate_daily_QC_702S006_2018_P1D.csv')\n",
    "\n",
    "# Make a dataframe of date and time with the precipitation data, then make it a dictionary\n",
    "rainDataFrame = pd.concat([ppt['Date/Time'], ppt['Total Precip (mm)']], axis=1)\n",
    "rainDataFrame['Date/Time'] = pd.to_datetime(rainDataFrame['Date/Time'])\n",
    "rainDataFrame['Date/Time'] = rainDataFrame['Date/Time'].dt.date\n",
    "rainDataFrame = rainDataFrame.fillna(0)\n",
    "rainDataFrame = rainDataFrame.set_index('Date/Time').T\n",
    "rainDict = rainDataFrame.to_dict('list')\n",
    "\n",
    "# .fillna(0) will replace empty slost with zero\n",
    "\n",
    "# Make a dataframe of date and time with the snow data, then make it a dictionary\n",
    "snowDataFrame = pd.concat([ppt['Date/Time'], ppt['Total Snow (cm)']], axis=1)\n",
    "snowDataFrame['Date/Time'] = pd.to_datetime(snowDataFrame['Date/Time'])\n",
    "snowDataFrame['Date/Time'] = snowDataFrame['Date/Time'].dt.date\n",
    "snowDataFrame = snowDataFrame.fillna(0)\n",
    "snowDataFrame = snowDataFrame.set_index('Date/Time').T\n",
    "snowDict = snowDataFrame.to_dict('list')\n",
    "\n",
    "# Map the temperature, rain, and snow dictionaries to the trips\n",
    "trips['Temp'] = trips.round_to_hour.map(tempDict)\n",
    "trips['Rain'] = trips.date.map(rainDict)\n",
    "trips['Snow'] = trips.date.map(snowDict)\n",
    "\n",
    "# Make the respective object columns of type int\n",
    "trips['Temp'] = (trips.Temp.str[0])\n",
    "trips['Temp'] = pd.to_numeric(trips.Temp , errors='ignore')\n",
    "trips['Temp'] = trips.Temp.fillna(0)\n",
    "trips['Temp'] = trips.Temp.astype(int)\n",
    "\n",
    "trips['Rain'] = (trips.Rain.str[0])\n",
    "trips['Rain'] = pd.to_numeric(trips.Rain, errors='ignore')\n",
    "trips['Rain'] = trips.Rain.fillna(0)\n",
    "trips['Rain'] = trips.Rain.astype(int)\n",
    "\n",
    "trips['Snow'] = (trips.Snow.str[0])\n",
    "trips['Snow'] = pd.to_numeric(trips.Snow, errors='ignore')\n",
    "trips['Snow'] = trips.Snow.fillna(0)\n",
    "trips['Snow'] = trips.Snow.astype(int)"
   ],
   "metadata": {
    "collapsed": false,
    "pycharm": {
     "name": "#%%\n"
    }
   }
  },
  {
   "cell_type": "code",
   "execution_count": 6,
   "outputs": [],
   "source": [
    "# Calculate amount of trips and number of bikes used, then make a dictionary of the time and amount\n",
    "firstTrip = min(trips.start_date)\n",
    "lastTRip = max(trips.end_date)\n",
    "amountTime = list(rrule.rrule(freq = rrule.MINUTELY, dtstart = firstTrip, until = lastTRip))\n",
    "amountValue = np.zeros(len(amountTime))\n",
    "\n",
    "# .zeros creates an empty list\n",
    "\n",
    "amountDict = dict(zip(amountTime,amountValue))\n",
    "for i in np.arange(tripsNumb):\n",
    "    start = trips.start_date.iloc[i]\n",
    "    end = trips.end_date.iloc[i]\n",
    "    for j in list(rrule.rrule(freq = rrule.MINUTELY, dtstart = start, until = end)):\n",
    "        amountDict[j] += 1\n",
    "\n",
    "trips['amount'] = trips.start_date.map(amountDict)\n",
    "amount = trips.amount.values"
   ],
   "metadata": {
    "collapsed": false,
    "pycharm": {
     "name": "#%%\n"
    }
   }
  },
  {
   "cell_type": "code",
   "execution_count": 7,
   "outputs": [],
   "source": [
    "naturalDataFrame = pd.concat([trips['hour'], trips['weekday'], trips['month'], trips['Temp'],trips['Rain'], trips['Snow'], trips['amount']], axis = 1)\n",
    "\n",
    "xNaturalDataFrame = naturalDataFrame.drop(['amount'], axis = 1)\n",
    "xMatrixNatural = xNaturalDataFrame.astype(float).values"
   ],
   "metadata": {
    "collapsed": false,
    "pycharm": {
     "name": "#%%\n"
    }
   }
  },
  {
   "cell_type": "code",
   "execution_count": null,
   "outputs": [],
   "source": [],
   "metadata": {
    "collapsed": false,
    "pycharm": {
     "name": "#%%\n"
    }
   }
  }
 ],
 "metadata": {
  "kernelspec": {
   "display_name": "Python 3",
   "language": "python",
   "name": "python3"
  },
  "language_info": {
   "codemirror_mode": {
    "name": "ipython",
    "version": 2
   },
   "file_extension": ".py",
   "mimetype": "text/x-python",
   "name": "python",
   "nbconvert_exporter": "python",
   "pygments_lexer": "ipython2",
   "version": "2.7.6"
  }
 },
 "nbformat": 4,
 "nbformat_minor": 0
}